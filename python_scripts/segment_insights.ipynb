{
 "cells": [
  {
   "cell_type": "code",
   "execution_count": 1,
   "metadata": {},
   "outputs": [
    {
     "name": "stdout",
     "output_type": "stream",
     "text": [
      "Note: you may need to restart the kernel to use updated packages.\n"
     ]
    }
   ],
   "source": [
    "%pip install nbformat>=4.2.0"
   ]
  },
  {
   "cell_type": "code",
   "execution_count": 5,
   "metadata": {},
   "outputs": [],
   "source": [
    "import pandas as pd\n",
    "import numpy as np\n",
    "from sklearn.cluster import KMeans\n",
    "from sklearn.preprocessing import MinMaxScaler\n",
    "\n",
    "df = pd.read_csv(\"../processed_datasets/merged_aqi_revenue_geocode_dataset.csv\")\n",
    "\n",
    "scaler = MinMaxScaler()\n",
    "df[[\"AQI_scaled\", \"Rev_scaled\"]] = scaler.fit_transform(\n",
    "    df[[\"Average_AQI\", \"Total_Rev_Prog_Desc\"]]\n",
    ")\n",
    "\n",
    "kmeans = KMeans(n_clusters=4, random_state=42)\n",
    "df[\"Cluster\"] = kmeans.fit_predict(df[[\"AQI_scaled\", \"Rev_scaled\"]])\n"
   ]
  },
  {
   "cell_type": "code",
   "execution_count": 11,
   "metadata": {},
   "outputs": [
    {
     "data": {
      "image/png": "[encoded data removed]",
      "text/plain": [
       "<Figure size 800x500 with 1 Axes>"
      ]
     },
     "metadata": {},
     "output_type": "display_data"
    }
   ],
   "source": [
    "import matplotlib.pyplot as plt# Prepare features and scale\n",
    "features = df[['Average_AQI', 'Total_Rev_Prog_Desc']].copy()\n",
    "scaler = MinMaxScaler()\n",
    "X_scaled = scaler.fit_transform(features)\n",
    "\n",
    "# Compute inertia for k = 1 to 10\n",
    "inertias = []\n",
    "K = range(1, 11)\n",
    "for k in K:\n",
    "    kmeans = KMeans(n_clusters=k, random_state=42)\n",
    "    kmeans.fit(X_scaled)\n",
    "    inertias.append(kmeans.inertia_)\n",
    "\n",
    "# Plot the elbow curve\n",
    "plt.figure(figsize=(8, 5))\n",
    "plt.plot(K, inertias, 'bo-', markersize=8)\n",
    "plt.xlabel('Number of clusters (k)')\n",
    "plt.ylabel('Inertia')\n",
    "plt.title('Elbow Method for Optimal k')\n",
    "plt.xticks(K)\n",
    "plt.grid(True)\n",
    "plt.show()"
   ]
  },
  {
   "cell_type": "code",
   "execution_count": 6,
   "metadata": {},
   "outputs": [
    {
     "data": {
      "application/vnd.plotly.v1+json": {
       "config": {
        "plotlyServerURL": "https://plot.ly"
       },
       "data": [
        {
         "customdata": [
          [
           "ABERDEEN, SD"
          ],
          [
           "ADRIAN, MI"
          ],
          [
           "AKRON, OH"
          ],
          [
           "ALBANY, GA"
          ],
          [
           "ALBUQUERQUE, NM"
          ],
          [
           "ALEXANDRIA, LA"
          ],
          [
           "ALTOONA, PA"
          ],
          [
           "AMARILLO, TX"
          ],
          [
           "AMERICUS, GA"
          ],
          [
           "ANCHORAGE, AK"
          ],
          [
           "ANN ARBOR, MI"
          ],
          [
           "APPLETON, WI"
          ],
          [
           "ARDMORE, OK"
          ],
          [
           "ARKADELPHIA, AR"
          ],
          [
           "ASHEVILLE, NC"
          ],
          [
           "ASHTABULA, OH"
          ],
          [
           "ATHENS, OH"
          ],
          [
           "BAKERSFIELD, CA"
          ],
          [
           "BANGOR, ME"
          ],
          [
           "BARABOO, WI"
          ],
          [
           "BATON ROUGE, LA"
          ],
          [
           "BAY CITY, MI"
          ],
          [
           "BEAVER DAM, WI"
          ],
          [
           "BELLINGHAM, WA"
          ],
          [
           "BEMIDJI, MN"
          ],
          [
           "BENNINGTON, VT"
          ],
          [
           "BILLINGS, MT"
          ],
          [
           "BISHOP, CA"
          ],
          [
           "BISMARCK, ND"
          ],
          [
           "BLOOMINGTON, IL"
          ],
          [
           "BOULDER, CO"
          ],
          [
           "BOWLING GREEN, KY"
          ],
          [
           "BOZEMAN, MT"
          ],
          [
           "BRAINERD, MN"
          ],
          [
           "BRANSON, MO"
          ],
          [
           "BROOKINGS, SD"
          ],
          [
           "BRUNSWICK, GA"
          ],
          [
           "CADILLAC, MI"
          ],
          [
           "CAMBRIDGE, MD"
          ],
          [
           "CARSON CITY, NV"
          ],
          [
           "CASPER, WY"
          ],
          [
           "CEDAR CITY, UT"
          ],
          [
           "CEDAR RAPIDS, IA"
          ],
          [
           "CENTRALIA, WA"
          ],
          [
           "CHARLESTON, WV"
          ],
          [
           "CHARLOTTESVILLE, VA"
          ],
          [
           "CHEYENNE, WY"
          ],
          [
           "CHICO, CA"
          ],
          [
           "CLARKSBURG, WV"
          ],
          [
           "CLEARLAKE, CA"
          ],
          [
           "CLINTON, IA"
          ],
          [
           "COLORADO SPRINGS, CO"
          ],
          [
           "COLUMBIA, MO"
          ],
          [
           "CONCORD, NH"
          ],
          [
           "COOKEVILLE, TN"
          ],
          [
           "COOS BAY, OR"
          ],
          [
           "CORNING, NY"
          ],
          [
           "CORPUS CHRISTI, TX"
          ],
          [
           "CORSICANA, TX"
          ],
          [
           "CORVALLIS, OR"
          ],
          [
           "CRESCENT CITY, CA"
          ],
          [
           "CULLOWHEE, NC"
          ],
          [
           "DALTON, GA"
          ],
          [
           "DAYTON, OH"
          ],
          [
           "DECATUR, AL"
          ],
          [
           "DEMING, NM"
          ],
          [
           "DICKINSON, ND"
          ],
          [
           "DODGE CITY, KS"
          ],
          [
           "DOTHAN, AL"
          ],
          [
           "DOUGLAS, GA"
          ],
          [
           "DOVER, DE"
          ],
          [
           "DUBOIS, PA"
          ],
          [
           "DURANGO, CO"
          ],
          [
           "EAGLE PASS, TX"
          ],
          [
           "EAST STROUDSBURG, PA"
          ],
          [
           "EAU CLAIRE, WI"
          ],
          [
           "EFFINGHAM, IL"
          ],
          [
           "EL CENTRO, CA"
          ],
          [
           "EL DORADO, AR"
          ],
          [
           "EL PASO, TX"
          ],
          [
           "ELKO, NV"
          ],
          [
           "ELLENSBURG, WA"
          ],
          [
           "EMPORIA, KS"
          ],
          [
           "ERIE, PA"
          ],
          [
           "EUGENE, OR"
          ],
          [
           "EVANSTON, WY"
          ],
          [
           "FAIRBANKS, AK"
          ],
          [
           "FAIRMONT, WV"
          ],
          [
           "FALLON, NV"
          ],
          [
           "FARMINGTON, NM"
          ],
          [
           "FAYETTEVILLE, NC"
          ],
          [
           "FLAGSTAFF, AZ"
          ],
          [
           "FLINT, MI"
          ],
          [
           "FLORENCE, SC"
          ],
          [
           "FOND DU LAC, WI"
          ],
          [
           "FORT COLLINS, CO"
          ],
          [
           "FORT PAYNE, AL"
          ],
          [
           "FORT WAYNE, IN"
          ],
          [
           "FRESNO, CA"
          ],
          [
           "GADSDEN, AL"
          ],
          [
           "GAINESVILLE, FL"
          ],
          [
           "GEORGETOWN, SC"
          ],
          [
           "GETTYSBURG, PA"
          ],
          [
           "GILLETTE, WY"
          ],
          [
           "GLENWOOD SPRINGS, CO"
          ],
          [
           "GRAND ISLAND, NE"
          ],
          [
           "GRAND JUNCTION, CO"
          ],
          [
           "GRANTS PASS, OR"
          ],
          [
           "GREAT FALLS, MT"
          ],
          [
           "GREELEY, CO"
          ],
          [
           "GREEN BAY, WI"
          ],
          [
           "GREENVILLE, NC"
          ],
          [
           "HAILEY, ID"
          ],
          [
           "HAMMOND, LA"
          ],
          [
           "HARRISON, AR"
          ],
          [
           "HARRISONBURG, VA"
          ],
          [
           "HATTIESBURG, MS"
          ],
          [
           "HELENA, MT"
          ],
          [
           "HILO, HI"
          ],
          [
           "HOBBS, NM"
          ],
          [
           "HOLLAND, MI"
          ],
          [
           "HOT SPRINGS, AR"
          ],
          [
           "HOUGHTON, MI"
          ],
          [
           "HUNTINGTON, IN"
          ],
          [
           "HUNTSVILLE, AL"
          ],
          [
           "IDAHO FALLS, ID"
          ],
          [
           "INDIANA, PA"
          ],
          [
           "IOWA CITY, IA"
          ],
          [
           "ITHACA, NY"
          ],
          [
           "JACKSON, MS"
          ],
          [
           "JACKSONVILLE, FL"
          ],
          [
           "JASPER, IN"
          ],
          [
           "JEFFERSON CITY, MO"
          ],
          [
           "JOHNSTOWN, PA"
          ],
          [
           "JONESBORO, AR"
          ],
          [
           "JOPLIN, MO"
          ],
          [
           "JUNEAU, AK"
          ],
          [
           "KALISPELL, MT"
          ],
          [
           "KAPAA, HI"
          ],
          [
           "KEENE, NH"
          ],
          [
           "KINSTON, NC"
          ],
          [
           "KLAMATH FALLS, OR"
          ],
          [
           "KNOXVILLE, TN"
          ],
          [
           "KOKOMO, IN"
          ],
          [
           "LA GRANDE, OR"
          ],
          [
           "LACONIA, NH"
          ],
          [
           "LAFAYETTE, LA"
          ],
          [
           "LAKE CHARLES, LA"
          ],
          [
           "LAKE CITY, FL"
          ],
          [
           "LANCASTER, PA"
          ],
          [
           "LARAMIE, WY"
          ],
          [
           "LAREDO, TX"
          ],
          [
           "LAS CRUCES, NM"
          ],
          [
           "LAWRENCEBURG, TN"
          ],
          [
           "LAWTON, OK"
          ],
          [
           "LEBANON, PA"
          ],
          [
           "LIMA, OH"
          ],
          [
           "LINCOLN, NE"
          ],
          [
           "LONGVIEW, TX"
          ],
          [
           "LOS ALAMOS, NM"
          ],
          [
           "LUBBOCK, TX"
          ],
          [
           "LUDINGTON, MI"
          ],
          [
           "LYNCHBURG, VA"
          ],
          [
           "MACON, GA"
          ],
          [
           "MADERA, CA"
          ],
          [
           "MADISON, WI"
          ],
          [
           "MALONE, NY"
          ],
          [
           "MANITOWOC, WI"
          ],
          [
           "MARIETTA, OH"
          ],
          [
           "MARSHALL, MN"
          ],
          [
           "MASON CITY, IA"
          ],
          [
           "MAYAGUEZ, PR"
          ],
          [
           "MCALESTER, OK"
          ],
          [
           "MEDFORD, OR"
          ],
          [
           "MERCED, CA"
          ],
          [
           "MERIDIAN, MS"
          ],
          [
           "MIAMI, OK"
          ],
          [
           "MINOT, ND"
          ],
          [
           "MISSOULA, MT"
          ],
          [
           "MOBILE, AL"
          ],
          [
           "MODESTO, CA"
          ],
          [
           "MONROE, LA"
          ],
          [
           "MONTGOMERY, AL"
          ],
          [
           "MOREHEAD CITY, NC"
          ],
          [
           "MORGANTOWN, WV"
          ],
          [
           "MORRISTOWN, TN"
          ],
          [
           "MOSCOW, ID"
          ],
          [
           "MOSES LAKE, WA"
          ],
          [
           "MOUNT VERNON, IL"
          ],
          [
           "MUNCIE, IN"
          ],
          [
           "MUSCATINE, IA"
          ],
          [
           "MUSKEGON, MI"
          ],
          [
           "MUSKOGEE, OK"
          ],
          [
           "NAPA, CA"
          ],
          [
           "NEW CASTLE, IN"
          ],
          [
           "NOGALES, AZ"
          ],
          [
           "OCALA, FL"
          ],
          [
           "ODESSA, TX"
          ],
          [
           "OKLAHOMA CITY, OK"
          ],
          [
           "OTHELLO, WA"
          ],
          [
           "OWENSBORO, KY"
          ],
          [
           "OXFORD, NC"
          ],
          [
           "PALATKA, FL"
          ],
          [
           "PANAMA CITY, FL"
          ],
          [
           "PAYSON, AZ"
          ],
          [
           "PEORIA, IL"
          ],
          [
           "PIERRE, SD"
          ],
          [
           "PITTSBURGH, PA"
          ],
          [
           "PITTSFIELD, MA"
          ],
          [
           "PLATTEVILLE, WI"
          ],
          [
           "POCATELLO, ID"
          ],
          [
           "PONCA CITY, OK"
          ],
          [
           "PONCE, PR"
          ],
          [
           "PORT ANGELES, WA"
          ],
          [
           "PORTSMOUTH, OH"
          ],
          [
           "PRESCOTT, AZ"
          ],
          [
           "PRINEVILLE, OR"
          ],
          [
           "PUEBLO, CO"
          ],
          [
           "PULLMAN, WA"
          ],
          [
           "RACINE, WI"
          ],
          [
           "RALEIGH, NC"
          ],
          [
           "RAPID CITY, SD"
          ],
          [
           "READING, PA"
          ],
          [
           "RED BLUFF, CA"
          ],
          [
           "RED WING, MN"
          ],
          [
           "REDDING, CA"
          ],
          [
           "RENO, NV"
          ],
          [
           "RICHMOND, VA"
          ],
          [
           "RIVERTON, WY"
          ],
          [
           "ROANOKE, VA"
          ],
          [
           "ROCHESTER, MN"
          ],
          [
           "ROCK SPRINGS, WY"
          ],
          [
           "ROCKFORD, IL"
          ],
          [
           "ROCKLAND, ME"
          ],
          [
           "ROCKY MOUNT, NC"
          ],
          [
           "ROME, GA"
          ],
          [
           "ROSEBURG, OR"
          ],
          [
           "ROSWELL, NM"
          ],
          [
           "RUIDOSO, NM"
          ],
          [
           "RUTLAND, VT"
          ],
          [
           "SALEM, OH"
          ],
          [
           "SALINAS, CA"
          ],
          [
           "SALT LAKE CITY, UT"
          ],
          [
           "SANDPOINT, ID"
          ],
          [
           "SANTA FE, NM"
          ],
          [
           "SANTA ROSA, CA"
          ],
          [
           "SAVANNAH, GA"
          ],
          [
           "SAYRE, PA"
          ],
          [
           "SCOTTSBLUFF, NE"
          ],
          [
           "SEBRING, FL"
          ],
          [
           "SENECA, SC"
          ],
          [
           "SEVIERVILLE, TN"
          ],
          [
           "SEYMOUR, IN"
          ],
          [
           "SHEBOYGAN, WI"
          ],
          [
           "SHELTON, WA"
          ],
          [
           "SHERIDAN, WY"
          ],
          [
           "SHOW LOW, AZ"
          ],
          [
           "SIOUX FALLS, SD"
          ],
          [
           "SOMERSET, KY"
          ],
          [
           "SONORA, CA"
          ],
          [
           "SPARTANBURG, SC"
          ],
          [
           "SPRINGFIELD, IL"
          ],
          [
           "STATE COLLEGE, PA"
          ],
          [
           "STEAMBOAT SPRINGS, CO"
          ],
          [
           "SYRACUSE, NY"
          ],
          [
           "TALLAHASSEE, FL"
          ],
          [
           "TAOS, NM"
          ],
          [
           "TERRE HAUTE, IN"
          ],
          [
           "THE DALLES, OR"
          ],
          [
           "TOLEDO, OH"
          ],
          [
           "TOPEKA, KS"
          ],
          [
           "TORRINGTON, CT"
          ],
          [
           "TRAVERSE CITY, MI"
          ],
          [
           "TRENTON, NJ"
          ],
          [
           "TUCSON, AZ"
          ],
          [
           "TULSA, OK"
          ],
          [
           "TUPELO, MS"
          ],
          [
           "TUSCALOOSA, AL"
          ],
          [
           "TWIN FALLS, ID"
          ],
          [
           "TYLER, TX"
          ],
          [
           "UKIAH, CA"
          ],
          [
           "VALDOSTA, GA"
          ],
          [
           "VICTORIA, TX"
          ],
          [
           "VINCENNES, IN"
          ],
          [
           "WABASH, IN"
          ],
          [
           "WACO, TX"
          ],
          [
           "WALLA WALLA, WA"
          ],
          [
           "WALTERBORO, SC"
          ],
          [
           "WARNER ROBINS, GA"
          ],
          [
           "WASHINGTON COURT HOUSE, OH"
          ],
          [
           "WATERTOWN, SD"
          ],
          [
           "WAUSAU, WI"
          ],
          [
           "WEATHERFORD, OK"
          ],
          [
           "WENATCHEE, WA"
          ],
          [
           "WICHITA, KS"
          ],
          [
           "WILLIAMSPORT, PA"
          ],
          [
           "WILLISTON, ND"
          ],
          [
           "WILMINGTON, NC"
          ],
          [
           "WINONA, MN"
          ],
          [
           "YAKIMA, WA"
          ],
          [
           "YUBA CITY, CA"
          ],
          [
           "YUMA, AZ"
          ]
         ],
         "hovertemplate": "<b>%{hovertext}</b><br><br>Average AQI=%{x}<br>Total Nonprofit Revenue=%{y}<br>CBSA=%{customdata[0]}<br>Cluster=%{marker.color}<extra></extra>",
         "hovertext": [
          "ABERDEEN",
          "ADRIAN",
          "AKRON",
          "ALBANY",
          "ALBUQUERQUE",
          "ALEXANDRIA",
          "ALTOONA",
          "AMARILLO",
          "AMERICUS",
          "ANCHORAGE",
          "ANN ARBOR",
          "APPLETON",
          "ARDMORE",
          "ARKADELPHIA",
          "ASHEVILLE",
          "ASHTABULA",
          "ATHENS",
          "BAKERSFIELD",
          "BANGOR",
          "BARABOO",
          "BATON ROUGE",
          "BAY CITY",
          "BEAVER DAM",
          "BELLINGHAM",
          "BEMIDJI",
          "BENNINGTON",
          "BILLINGS",
          "BISHOP",
          "BISMARCK",
          "BLOOMINGTON",
          "BOULDER",
          "BOWLING GREEN",
          "BOZEMAN",
          "BRAINERD",
          "BRANSON",
          "BROOKINGS",
          "BRUNSWICK",
          "CADILLAC",
          "CAMBRIDGE",
          "CARSON CITY",
          "CASPER",
          "CEDAR CITY",
          "CEDAR RAPIDS",
          "CENTRALIA",
          "CHARLESTON",
          "CHARLOTTESVILLE",
          "CHEYENNE",
          "CHICO",
          "CLARKSBURG",
          "CLEARLAKE",
          "CLINTON",
          "COLORADO SPRINGS",
          "COLUMBIA",
          "CONCORD",
          "COOKEVILLE",
          "COOS BAY",
          "CORNING",
          "CORPUS CHRISTI",
          "CORSICANA",
          "CORVALLIS",
          "CRESCENT CITY",
          "CULLOWHEE",
          "DALTON",
          "DAYTON",
          "DECATUR",
          "DEMING",
          "DICKINSON",
          "DODGE CITY",
          "DOTHAN",
          "DOUGLAS",
          "DOVER",
          "DUBOIS",
          "DURANGO",
          "EAGLE PASS",
          "EAST STROUDSBURG",
          "EAU CLAIRE",
          "EFFINGHAM",
          "EL CENTRO",
          "EL DORADO",
          "EL PASO",
          "ELKO",
          "ELLENSBURG",
          "EMPORIA",
          "ERIE",
          "EUGENE",
          "EVANSTON",
          "FAIRBANKS",
          "FAIRMONT",
          "FALLON",
          "FARMINGTON",
          "FAYETTEVILLE",
          "FLAGSTAFF",
          "FLINT",
          "FLORENCE",
          "FOND DU LAC",
          "FORT COLLINS",
          "FORT PAYNE",
          "FORT WAYNE",
          "FRESNO",
          "GADSDEN",
          "GAINESVILLE",
          "GEORGETOWN",
          "GETTYSBURG",
          "GILLETTE",
          "GLENWOOD SPRINGS",
          "GRAND ISLAND",
          "GRAND JUNCTION",
          "GRANTS PASS",
          "GREAT FALLS",
          "GREELEY",
          "GREEN BAY",
          "GREENVILLE",
          "HAILEY",
          "HAMMOND",
          "HARRISON",
          "HARRISONBURG",
          "HATTIESBURG",
          "HELENA",
          "HILO",
          "HOBBS",
          "HOLLAND",
          "HOT SPRINGS",
          "HOUGHTON",
          "HUNTINGTON",
          "HUNTSVILLE",
          "IDAHO FALLS",
          "INDIANA",
          "IOWA CITY",
          "ITHACA",
          "JACKSON",
          "JACKSONVILLE",
          "JASPER",
          "JEFFERSON CITY",
          "JOHNSTOWN",
          "JONESBORO",
          "JOPLIN",
          "JUNEAU",
          "KALISPELL",
          "KAPAA",
          "KEENE",
          "KINSTON",
          "KLAMATH FALLS",
          "KNOXVILLE",
          "KOKOMO",
          "LA GRANDE",
          "LACONIA",
          "LAFAYETTE",
          "LAKE CHARLES",
          "LAKE CITY",
          "LANCASTER",
          "LARAMIE",
          "LAREDO",
          "LAS CRUCES",
          "LAWRENCEBURG",
          "LAWTON",
          "LEBANON",
          "LIMA",
          "LINCOLN",
          "LONGVIEW",
          "LOS ALAMOS",
          "LUBBOCK",
          "LUDINGTON",
          "LYNCHBURG",
          "MACON",
          "MADERA",
          "MADISON",
          "MALONE",
          "MANITOWOC",
          "MARIETTA",
          "MARSHALL",
          "MASON CITY",
          "MAYAGUEZ",
          "MCALESTER",
          "MEDFORD",
          "MERCED",
          "MERIDIAN",
          "MIAMI",
          "MINOT",
          "MISSOULA",
          "MOBILE",
          "MODESTO",
          "MONROE",
          "MONTGOMERY",
          "MOREHEAD CITY",
          "MORGANTOWN",
          "MORRISTOWN",
          "MOSCOW",
          "MOSES LAKE",
          "MOUNT VERNON",
          "MUNCIE",
          "MUSCATINE",
          "MUSKEGON",
          "MUSKOGEE",
          "NAPA",
          "NEW CASTLE",
          "NOGALES",
          "OCALA",
          "ODESSA",
          "OKLAHOMA CITY",
          "OTHELLO",
          "OWENSBORO",
          "OXFORD",
          "PALATKA",
          "PANAMA CITY",
          "PAYSON",
          "PEORIA",
          "PIERRE",
          "PITTSBURGH",
          "PITTSFIELD",
          "PLATTEVILLE",
          "POCATELLO",
          "PONCA CITY",
          "PONCE",
          "PORT ANGELES",
          "PORTSMOUTH",
          "PRESCOTT",
          "PRINEVILLE",
          "PUEBLO",
          "PULLMAN",
          "RACINE",
          "RALEIGH",
          "RAPID CITY",
          "READING",
          "RED BLUFF",
          "RED WING",
          "REDDING",
          "RENO",
          "RICHMOND",
          "RIVERTON",
          "ROANOKE",
          "ROCHESTER",
          "ROCK SPRINGS",
          "ROCKFORD",
          "ROCKLAND",
          "ROCKY MOUNT",
          "ROME",
          "ROSEBURG",
          "ROSWELL",
          "RUIDOSO",
          "RUTLAND",
          "SALEM",
          "SALINAS",
          "SALT LAKE CITY",
          "SANDPOINT",
          "SANTA FE",
          "SANTA ROSA",
          "SAVANNAH",
          "SAYRE",
          "SCOTTSBLUFF",
          "SEBRING",
          "SENECA",
          "SEVIERVILLE",
          "SEYMOUR",
          "SHEBOYGAN",
          "SHELTON",
          "SHERIDAN",
          "SHOW LOW",
          "SIOUX FALLS",
          "SOMERSET",
          "SONORA",
          "SPARTANBURG",
          "SPRINGFIELD",
          "STATE COLLEGE",
          "STEAMBOAT SPRINGS",
          "SYRACUSE",
          "TALLAHASSEE",
          "TAOS",
          "TERRE HAUTE",
          "THE DALLES",
          "TOLEDO",
          "TOPEKA",
          "TORRINGTON",
          "TRAVERSE CITY",
          "TRENTON",
          "TUCSON",
          "TULSA",
          "TUPELO",
          "TUSCALOOSA",
          "TWIN FALLS",
          "TYLER",
          "UKIAH",
          "VALDOSTA",
          "VICTORIA",
          "VINCENNES",
          "WABASH",
          "WACO",
          "WALLA WALLA",
          "WALTERBORO",
          "WARNER ROBINS",
          "WASHINGTON COURT HOUSE",
          "WATERTOWN",
          "WAUSAU",
          "WEATHERFORD",
          "WENATCHEE",
          "WICHITA",
          "WILLIAMSPORT",
          "WILLISTON",
          "WILMINGTON",
          "WINONA",
          "YAKIMA",
          "YUBA CITY",
          "YUMA"
         ],
         "legendgroup": "",
         "marker": {
          "color": {
           "bdata": "AgAAAAMAAAABAAAAAwAAAAEAAAAAAAAAAwAAAAMAAAAAAAAAAQAAAAMAAAAAAAAAAwAAAAAAAAAAAAAAAAAAAAAAAAADAAAAAAAAAAAAAAABAAAAAAAAAAMAAAACAAAAAgAAAAAAAAAAAAAAAwAAAAAAAAADAAAAAQAAAAMAAAAAAAAAAAAAAAIAAAADAAAAAAAAAAAAAAADAAAAAAAAAAAAAAAAAAAAAwAAAAAAAAAAAAAAAAAAAAMAAAADAAAAAAAAAAAAAAADAAAAAwAAAAAAAAAAAAAAAAAAAAIAAAAAAAAAAwAAAAAAAAACAAAAAgAAAAAAAAAAAAAAAQAAAAMAAAACAAAAAAAAAAIAAAAAAAAAAAAAAAMAAAAAAAAAAwAAAAAAAAAAAAAAAAAAAAAAAAADAAAAAwAAAAEAAAACAAAAAAAAAAIAAAAAAAAAAwAAAAMAAAADAAAAAAAAAAAAAAADAAAAAwAAAAMAAAAAAAAAAAAAAAAAAAADAAAAAAAAAAEAAAABAAAAAwAAAAMAAAACAAAAAwAAAAAAAAADAAAAAgAAAAMAAAAAAAAAAgAAAAMAAAAAAAAAAAAAAAIAAAAAAAAAAAAAAAAAAAADAAAAAwAAAAIAAAADAAAAAAAAAAMAAAACAAAAAAAAAAMAAAADAAAAAAAAAAMAAAAAAAAAAQAAAAEAAAAAAAAAAAAAAAMAAAAAAAAAAAAAAAAAAAAAAAAAAgAAAAAAAAAAAAAAAwAAAAEAAAADAAAAAgAAAAIAAAADAAAAAwAAAAMAAAADAAAAAwAAAAMAAAADAAAAAAAAAAMAAAADAAAAAwAAAAEAAAAAAAAAAgAAAAAAAAAAAAAAAAAAAAMAAAADAAAAAQAAAAAAAAAAAAAAAAAAAAAAAAACAAAAAAAAAAMAAAADAAAAAwAAAAAAAAADAAAAAAAAAAMAAAABAAAAAwAAAAAAAAADAAAAAAAAAAAAAAADAAAAAgAAAAIAAAADAAAAAAAAAAAAAAAAAAAAAgAAAAAAAAAAAAAAAAAAAAMAAAAAAAAAAQAAAAIAAAADAAAAAwAAAAIAAAADAAAAAwAAAAMAAAACAAAAAQAAAAAAAAAAAAAAAgAAAAMAAAADAAAAAAAAAAIAAAADAAAAAAAAAAIAAAACAAAAAAAAAAEAAAADAAAAAwAAAAMAAAAAAAAAAAAAAAEAAAABAAAAAwAAAAAAAAAAAAAAAwAAAAMAAAAAAAAAAAAAAAMAAAAAAAAAAgAAAAIAAAAAAAAAAAAAAAAAAAADAAAAAAAAAAEAAAAAAAAAAwAAAAAAAAACAAAAAAAAAAAAAAADAAAAAAAAAAAAAAAAAAAAAAAAAAMAAAABAAAAAAAAAAMAAAADAAAAAwAAAAMAAAACAAAAAQAAAAEAAAACAAAAAwAAAAAAAAABAAAAAQAAAAAAAAAAAAAAAwAAAAEAAAABAAAAAAAAAAAAAAACAAAAAAAAAAAAAAADAAAAAAAAAAAAAAAAAAAAAAAAAAAAAAACAAAAAwAAAAAAAAAAAAAAAAAAAAIAAAAAAAAAAQAAAAAAAAAAAAAAAAAAAAIAAAADAAAAAwAAAAMAAAA=",
           "dtype": "i4"
          },
          "coloraxis": "coloraxis",
          "line": {
           "color": "DarkSlateGrey",
           "width": 1
          },
          "size": 10,
          "symbol": "circle"
         },
         "mode": "markers",
         "name": "",
         "orientation": "v",
         "showlegend": false,
         "type": "scatter",
         "x": {
          "bdata": "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",
          "dtype": "f8"
         },
         "xaxis": "x",
         "y": {
          "bdata": "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",
          "dtype": "f8"
         },
         "yaxis": "y"
        }
       ],
       "layout": {
        "coloraxis": {
         "colorbar": {
          "title": {
           "text": "Cluster"
          }
         },
         "colorscale": [
          [
           0,
           "#0d0887"
          ],
          [
           0.1111111111111111,
           "#46039f"
          ],
          [
           0.2222222222222222,
           "#7201a8"
          ],
          [
           0.3333333333333333,
           "#9c179e"
          ],
          [
           0.4444444444444444,
           "#bd3786"
          ],
          [
           0.5555555555555556,
           "#d8576b"
          ],
          [
           0.6666666666666666,
           "#ed7953"
          ],
          [
           0.7777777777777778,
           "#fb9f3a"
          ],
          [
           0.8888888888888888,
           "#fdca26"
          ],
          [
           1,
           "#f0f921"
          ]
         ]
        },
        "legend": {
         "tracegroupgap": 0
        },
        "template": {
         "data": {
          "bar": [
           {
            "error_x": {
             "color": "#2a3f5f"
            },
            "error_y": {
             "color": "#2a3f5f"
            },
            "marker": {
             "line": {
              "color": "#E5ECF6",
              "width": 0.5
             },
             "pattern": {
              "fillmode": "overlay",
              "size": 10,
              "solidity": 0.2
             }
            },
            "type": "bar"
           }
          ],
          "barpolar": [
           {
            "marker": {
             "line": {
              "color": "#E5ECF6",
              "width": 0.5
             },
             "pattern": {
              "fillmode": "overlay",
              "size": 10,
              "solidity": 0.2
             }
            },
            "type": "barpolar"
           }
          ],
          "carpet": [
           {
            "aaxis": {
             "endlinecolor": "#2a3f5f",
             "gridcolor": "white",
             "linecolor": "white",
             "minorgridcolor": "white",
             "startlinecolor": "#2a3f5f"
            },
            "baxis": {
             "endlinecolor": "#2a3f5f",
             "gridcolor": "white",
             "linecolor": "white",
             "minorgridcolor": "white",
             "startlinecolor": "#2a3f5f"
            },
            "type": "carpet"
           }
          ],
          "choropleth": [
           {
            "colorbar": {
             "outlinewidth": 0,
             "ticks": ""
            },
            "type": "choropleth"
           }
          ],
          "contour": [
           {
            "colorbar": {
             "outlinewidth": 0,
             "ticks": ""
            },
            "colorscale": [
             [
              0,
              "#0d0887"
             ],
             [
              0.1111111111111111,
              "#46039f"
             ],
             [
              0.2222222222222222,
              "#7201a8"
             ],
             [
              0.3333333333333333,
              "#9c179e"
             ],
             [
              0.4444444444444444,
              "#bd3786"
             ],
             [
              0.5555555555555556,
              "#d8576b"
             ],
             [
              0.6666666666666666,
              "#ed7953"
             ],
             [
              0.7777777777777778,
              "#fb9f3a"
             ],
             [
              0.8888888888888888,
              "#fdca26"
             ],
             [
              1,
              "#f0f921"
             ]
            ],
            "type": "contour"
           }
          ],
          "contourcarpet": [
           {
            "colorbar": {
             "outlinewidth": 0,
             "ticks": ""
            },
            "type": "contourcarpet"
           }
          ],
          "heatmap": [
           {
            "colorbar": {
             "outlinewidth": 0,
             "ticks": ""
            },
            "colorscale": [
             [
              0,
              "#0d0887"
             ],
             [
              0.1111111111111111,
              "#46039f"
             ],
             [
              0.2222222222222222,
              "#7201a8"
             ],
             [
              0.3333333333333333,
              "#9c179e"
             ],
             [
              0.4444444444444444,
              "#bd3786"
             ],
             [
              0.5555555555555556,
              "#d8576b"
             ],
             [
              0.6666666666666666,
              "#ed7953"
             ],
             [
              0.7777777777777778,
              "#fb9f3a"
             ],
             [
              0.8888888888888888,
              "#fdca26"
             ],
             [
              1,
              "#f0f921"
             ]
            ],
            "type": "heatmap"
           }
          ],
          "histogram": [
           {
            "marker": {
             "pattern": {
              "fillmode": "overlay",
              "size": 10,
              "solidity": 0.2
             }
            },
            "type": "histogram"
           }
          ],
          "histogram2d": [
           {
            "colorbar": {
             "outlinewidth": 0,
             "ticks": ""
            },
            "colorscale": [
             [
              0,
              "#0d0887"
             ],
             [
              0.1111111111111111,
              "#46039f"
             ],
             [
              0.2222222222222222,
              "#7201a8"
             ],
             [
              0.3333333333333333,
              "#9c179e"
             ],
             [
              0.4444444444444444,
              "#bd3786"
             ],
             [
              0.5555555555555556,
              "#d8576b"
             ],
             [
              0.6666666666666666,
              "#ed7953"
             ],
             [
              0.7777777777777778,
              "#fb9f3a"
             ],
             [
              0.8888888888888888,
              "#fdca26"
             ],
             [
              1,
              "#f0f921"
             ]
            ],
            "type": "histogram2d"
           }
          ],
          "histogram2dcontour": [
           {
            "colorbar": {
             "outlinewidth": 0,
             "ticks": ""
            },
            "colorscale": [
             [
              0,
              "#0d0887"
             ],
             [
              0.1111111111111111,
              "#46039f"
             ],
             [
              0.2222222222222222,
              "#7201a8"
             ],
             [
              0.3333333333333333,
              "#9c179e"
             ],
             [
              0.4444444444444444,
              "#bd3786"
             ],
             [
              0.5555555555555556,
              "#d8576b"
             ],
             [
              0.6666666666666666,
              "#ed7953"
             ],
             [
              0.7777777777777778,
              "#fb9f3a"
             ],
             [
              0.8888888888888888,
              "#fdca26"
             ],
             [
              1,
              "#f0f921"
             ]
            ],
            "type": "histogram2dcontour"
           }
          ],
          "mesh3d": [
           {
            "colorbar": {
             "outlinewidth": 0,
             "ticks": ""
            },
            "type": "mesh3d"
           }
          ],
          "parcoords": [
           {
            "line": {
             "colorbar": {
              "outlinewidth": 0,
              "ticks": ""
             }
            },
            "type": "parcoords"
           }
          ],
          "pie": [
           {
            "automargin": true,
            "type": "pie"
           }
          ],
          "scatter": [
           {
            "fillpattern": {
             "fillmode": "overlay",
             "size": 10,
             "solidity": 0.2
            },
            "type": "scatter"
           }
          ],
          "scatter3d": [
           {
            "line": {
             "colorbar": {
              "outlinewidth": 0,
              "ticks": ""
             }
            },
            "marker": {
             "colorbar": {
              "outlinewidth": 0,
              "ticks": ""
             }
            },
            "type": "scatter3d"
           }
          ],
          "scattercarpet": [
           {
            "marker": {
             "colorbar": {
              "outlinewidth": 0,
              "ticks": ""
             }
            },
            "type": "scattercarpet"
           }
          ],
          "scattergeo": [
           {
            "marker": {
             "colorbar": {
              "outlinewidth": 0,
              "ticks": ""
             }
            },
            "type": "scattergeo"
           }
          ],
          "scattergl": [
           {
            "marker": {
             "colorbar": {
              "outlinewidth": 0,
              "ticks": ""
             }
            },
            "type": "scattergl"
           }
          ],
          "scattermap": [
           {
            "marker": {
             "colorbar": {
              "outlinewidth": 0,
              "ticks": ""
             }
            },
            "type": "scattermap"
           }
          ],
          "scattermapbox": [
           {
            "marker": {
             "colorbar": {
              "outlinewidth": 0,
              "ticks": ""
             }
            },
            "type": "scattermapbox"
           }
          ],
          "scatterpolar": [
           {
            "marker": {
             "colorbar": {
              "outlinewidth": 0,
              "ticks": ""
             }
            },
            "type": "scatterpolar"
           }
          ],
          "scatterpolargl": [
           {
            "marker": {
             "colorbar": {
              "outlinewidth": 0,
              "ticks": ""
             }
            },
            "type": "scatterpolargl"
           }
          ],
          "scatterternary": [
           {
            "marker": {
             "colorbar": {
              "outlinewidth": 0,
              "ticks": ""
             }
            },
            "type": "scatterternary"
           }
          ],
          "surface": [
           {
            "colorbar": {
             "outlinewidth": 0,
             "ticks": ""
            },
            "colorscale": [
             [
              0,
              "#0d0887"
             ],
             [
              0.1111111111111111,
              "#46039f"
             ],
             [
              0.2222222222222222,
              "#7201a8"
             ],
             [
              0.3333333333333333,
              "#9c179e"
             ],
             [
              0.4444444444444444,
              "#bd3786"
             ],
             [
              0.5555555555555556,
              "#d8576b"
             ],
             [
              0.6666666666666666,
              "#ed7953"
             ],
             [
              0.7777777777777778,
              "#fb9f3a"
             ],
             [
              0.8888888888888888,
              "#fdca26"
             ],
             [
              1,
              "#f0f921"
             ]
            ],
            "type": "surface"
           }
          ],
          "table": [
           {
            "cells": {
             "fill": {
              "color": "#EBF0F8"
             },
             "line": {
              "color": "white"
             }
            },
            "header": {
             "fill": {
              "color": "#C8D4E3"
             },
             "line": {
              "color": "white"
             }
            },
            "type": "table"
           }
          ]
         },
         "layout": {
          "annotationdefaults": {
           "arrowcolor": "#2a3f5f",
           "arrowhead": 0,
           "arrowwidth": 1
          },
          "autotypenumbers": "strict",
          "coloraxis": {
           "colorbar": {
            "outlinewidth": 0,
            "ticks": ""
           }
          },
          "colorscale": {
           "diverging": [
            [
             0,
             "#8e0152"
            ],
            [
             0.1,
             "#c51b7d"
            ],
            [
             0.2,
             "#de77ae"
            ],
            [
             0.3,
             "#f1b6da"
            ],
            [
             0.4,
             "#fde0ef"
            ],
            [
             0.5,
             "#f7f7f7"
            ],
            [
             0.6,
             "#e6f5d0"
            ],
            [
             0.7,
             "#b8e186"
            ],
            [
             0.8,
             "#7fbc41"
            ],
            [
             0.9,
             "#4d9221"
            ],
            [
             1,
             "#276419"
            ]
           ],
           "sequential": [
            [
             0,
             "#0d0887"
            ],
            [
             0.1111111111111111,
             "#46039f"
            ],
            [
             0.2222222222222222,
             "#7201a8"
            ],
            [
             0.3333333333333333,
             "#9c179e"
            ],
            [
             0.4444444444444444,
             "#bd3786"
            ],
            [
             0.5555555555555556,
             "#d8576b"
            ],
            [
             0.6666666666666666,
             "#ed7953"
            ],
            [
             0.7777777777777778,
             "#fb9f3a"
            ],
            [
             0.8888888888888888,
             "#fdca26"
            ],
            [
             1,
             "#f0f921"
            ]
           ],
           "sequentialminus": [
            [
             0,
             "#0d0887"
            ],
            [
             0.1111111111111111,
             "#46039f"
            ],
            [
             0.2222222222222222,
             "#7201a8"
            ],
            [
             0.3333333333333333,
             "#9c179e"
            ],
            [
             0.4444444444444444,
             "#bd3786"
            ],
            [
             0.5555555555555556,
             "#d8576b"
            ],
            [
             0.6666666666666666,
             "#ed7953"
            ],
            [
             0.7777777777777778,
             "#fb9f3a"
            ],
            [
             0.8888888888888888,
             "#fdca26"
            ],
            [
             1,
             "#f0f921"
            ]
           ]
          },
          "colorway": [
           "#636efa",
           "#EF553B",
           "#00cc96",
           "#ab63fa",
           "#FFA15A",
           "#19d3f3",
           "#FF6692",
           "#B6E880",
           "#FF97FF",
           "#FECB52"
          ],
          "font": {
           "color": "#2a3f5f"
          },
          "geo": {
           "bgcolor": "white",
           "lakecolor": "white",
           "landcolor": "#E5ECF6",
           "showlakes": true,
           "showland": true,
           "subunitcolor": "white"
          },
          "hoverlabel": {
           "align": "left"
          },
          "hovermode": "closest",
          "mapbox": {
           "style": "light"
          },
          "paper_bgcolor": "white",
          "plot_bgcolor": "#E5ECF6",
          "polar": {
           "angularaxis": {
            "gridcolor": "white",
            "linecolor": "white",
            "ticks": ""
           },
           "bgcolor": "#E5ECF6",
           "radialaxis": {
            "gridcolor": "white",
            "linecolor": "white",
            "ticks": ""
           }
          },
          "scene": {
           "xaxis": {
            "backgroundcolor": "#E5ECF6",
            "gridcolor": "white",
            "gridwidth": 2,
            "linecolor": "white",
            "showbackground": true,
            "ticks": "",
            "zerolinecolor": "white"
           },
           "yaxis": {
            "backgroundcolor": "#E5ECF6",
            "gridcolor": "white",
            "gridwidth": 2,
            "linecolor": "white",
            "showbackground": true,
            "ticks": "",
            "zerolinecolor": "white"
           },
           "zaxis": {
            "backgroundcolor": "#E5ECF6",
            "gridcolor": "white",
            "gridwidth": 2,
            "linecolor": "white",
            "showbackground": true,
            "ticks": "",
            "zerolinecolor": "white"
           }
          },
          "shapedefaults": {
           "line": {
            "color": "#2a3f5f"
           }
          },
          "ternary": {
           "aaxis": {
            "gridcolor": "white",
            "linecolor": "white",
            "ticks": ""
           },
           "baxis": {
            "gridcolor": "white",
            "linecolor": "white",
            "ticks": ""
           },
           "bgcolor": "#E5ECF6",
           "caxis": {
            "gridcolor": "white",
            "linecolor": "white",
            "ticks": ""
           }
          },
          "title": {
           "x": 0.05
          },
          "xaxis": {
           "automargin": true,
           "gridcolor": "white",
           "linecolor": "white",
           "ticks": "",
           "title": {
            "standoff": 15
           },
           "zerolinecolor": "white",
           "zerolinewidth": 2
          },
          "yaxis": {
           "automargin": true,
           "gridcolor": "white",
           "linecolor": "white",
           "ticks": "",
           "title": {
            "standoff": 15
           },
           "zerolinecolor": "white",
           "zerolinewidth": 2
          }
         }
        },
        "title": {
         "text": "City Clusters by Air Quality & Nonprofit Revenue"
        },
        "xaxis": {
         "anchor": "y",
         "domain": [
          0,
          1
         ],
         "title": {
          "text": "Average AQI"
         }
        },
        "yaxis": {
         "anchor": "x",
         "domain": [
          0,
          1
         ],
         "title": {
          "text": "Total Nonprofit Revenue"
         }
        }
       }
      }
     },
     "metadata": {},
     "output_type": "display_data"
    }
   ],
   "source": [
    "import plotly.express as px\n",
    "\n",
    "fig = px.scatter(\n",
    "    df,\n",
    "    x=\"Average_AQI\",\n",
    "    y=\"Total_Rev_Prog_Desc\",\n",
    "    color=\"Cluster\",\n",
    "    hover_name=\"City\",\n",
    "    hover_data=[\"CBSA\"],\n",
    "    labels={\n",
    "        \"Average_AQI\":\"Average AQI\",\n",
    "        \"Total_Rev_Prog_Desc\":\"Total Nonprofit Revenue\"\n",
    "    },\n",
    "    title=\"City Clusters by Air Quality & Nonprofit Revenue\"\n",
    ")\n",
    "fig.update_traces(marker=dict(size=10, line=dict(width=1, color='DarkSlateGrey')))\n",
    "fig.show()\n"
   ]
  },
  {
   "cell_type": "code",
   "execution_count": 7,
   "metadata": {},
   "outputs": [
    {
     "data": {
      "text/html": [
       "<div>\n",
       "<style scoped>\n",
       "    .dataframe tbody tr th:only-of-type {\n",
       "        vertical-align: middle;\n",
       "    }\n",
       "\n",
       "    .dataframe tbody tr th {\n",
       "        vertical-align: top;\n",
       "    }\n",
       "\n",
       "    .dataframe thead th {\n",
       "        text-align: right;\n",
       "    }\n",
       "</style>\n",
       "<table border=\"1\" class=\"dataframe\">\n",
       "  <thead>\n",
       "    <tr style=\"text-align: right;\">\n",
       "      <th></th>\n",
       "      <th>Cluster</th>\n",
       "      <th>Avg_AQI</th>\n",
       "      <th>Median_AQI</th>\n",
       "      <th>Avg_Revenue</th>\n",
       "      <th>Median_Rev</th>\n",
       "      <th>Count</th>\n",
       "    </tr>\n",
       "  </thead>\n",
       "  <tbody>\n",
       "    <tr>\n",
       "      <th>0</th>\n",
       "      <td>0</td>\n",
       "      <td>37.868095</td>\n",
       "      <td>38.306306</td>\n",
       "      <td>1.005963e+07</td>\n",
       "      <td>6945848.0</td>\n",
       "      <td>133</td>\n",
       "    </tr>\n",
       "    <tr>\n",
       "      <th>1</th>\n",
       "      <td>1</td>\n",
       "      <td>50.283325</td>\n",
       "      <td>50.186301</td>\n",
       "      <td>6.877551e+07</td>\n",
       "      <td>62561656.0</td>\n",
       "      <td>29</td>\n",
       "    </tr>\n",
       "    <tr>\n",
       "      <th>2</th>\n",
       "      <td>2</td>\n",
       "      <td>23.122683</td>\n",
       "      <td>25.428571</td>\n",
       "      <td>5.809176e+06</td>\n",
       "      <td>4892928.0</td>\n",
       "      <td>41</td>\n",
       "    </tr>\n",
       "    <tr>\n",
       "      <th>3</th>\n",
       "      <td>3</td>\n",
       "      <td>48.484158</td>\n",
       "      <td>46.884932</td>\n",
       "      <td>1.167138e+07</td>\n",
       "      <td>8981908.0</td>\n",
       "      <td>99</td>\n",
       "    </tr>\n",
       "  </tbody>\n",
       "</table>\n",
       "</div>"
      ],
      "text/plain": [
       "   Cluster    Avg_AQI  Median_AQI   Avg_Revenue  Median_Rev  Count\n",
       "0        0  37.868095   38.306306  1.005963e+07   6945848.0    133\n",
       "1        1  50.283325   50.186301  6.877551e+07  62561656.0     29\n",
       "2        2  23.122683   25.428571  5.809176e+06   4892928.0     41\n",
       "3        3  48.484158   46.884932  1.167138e+07   8981908.0     99"
      ]
     },
     "execution_count": 7,
     "metadata": {},
     "output_type": "execute_result"
    }
   ],
   "source": [
    "profile = df.groupby(\"Cluster\").agg(\n",
    "    Avg_AQI     = (\"Average_AQI\",     \"mean\"),\n",
    "    Median_AQI  = (\"Average_AQI\",     \"median\"),\n",
    "    Avg_Revenue = (\"Total_Rev_Prog_Desc\", \"mean\"),\n",
    "    Median_Rev  = (\"Total_Rev_Prog_Desc\", \"median\"),\n",
    "    Count       = (\"City\",            \"count\")\n",
    ").reset_index()\n",
    "profile\n"
   ]
  },
  {
   "cell_type": "code",
   "execution_count": 8,
   "metadata": {},
   "outputs": [
    {
     "name": "stderr",
     "output_type": "stream",
     "text": [
      "/var/folders/qy/mrz93f6x39d_jlmv1k3_phqw0000gn/T/ipykernel_12983/4116556413.py:6: DeprecationWarning:\n",
      "\n",
      "*scatter_mapbox* is deprecated! Use *scatter_map* instead. Learn more at: https://plotly.com/python/mapbox-to-maplibre/\n",
      "\n"
     ]
    },
    {
     "data": {
      "application/vnd.plotly.v1+json": {
       "config": {
        "plotlyServerURL": "https://plot.ly"
       },
       "data": [
        {
         "customdata": [
          [
           "ABERDEEN, SD"
          ],
          [
           "ADRIAN, MI"
          ],
          [
           "AKRON, OH"
          ],
          [
           "ALBANY, GA"
          ],
          [
           "ALBUQUERQUE, NM"
          ],
          [
           "ALEXANDRIA, LA"
          ],
          [
           "ALTOONA, PA"
          ],
          [
           "AMARILLO, TX"
          ],
          [
           "AMERICUS, GA"
          ],
          [
           "ANCHORAGE, AK"
          ],
          [
           "ANN ARBOR, MI"
          ],
          [
           "APPLETON, WI"
          ],
          [
           "ARDMORE, OK"
          ],
          [
           "ARKADELPHIA, AR"
          ],
          [
           "ASHEVILLE, NC"
          ],
          [
           "ASHTABULA, OH"
          ],
          [
           "ATHENS, OH"
          ],
          [
           "BAKERSFIELD, CA"
          ],
          [
           "BANGOR, ME"
          ],
          [
           "BARABOO, WI"
          ],
          [
           "BATON ROUGE, LA"
          ],
          [
           "BAY CITY, MI"
          ],
          [
           "BEAVER DAM, WI"
          ],
          [
           "BELLINGHAM, WA"
          ],
          [
           "BEMIDJI, MN"
          ],
          [
           "BENNINGTON, VT"
          ],
          [
           "BILLINGS, MT"
          ],
          [
           "BISHOP, CA"
          ],
          [
           "BISMARCK, ND"
          ],
          [
           "BLOOMINGTON, IL"
          ],
          [
           "BOULDER, CO"
          ],
          [
           "BOWLING GREEN, KY"
          ],
          [
           "BOZEMAN, MT"
          ],
          [
           "BRAINERD, MN"
          ],
          [
           "BRANSON, MO"
          ],
          [
           "BROOKINGS, SD"
          ],
          [
           "BRUNSWICK, GA"
          ],
          [
           "CADILLAC, MI"
          ],
          [
           "CAMBRIDGE, MD"
          ],
          [
           "CARSON CITY, NV"
          ],
          [
           "CASPER, WY"
          ],
          [
           "CEDAR CITY, UT"
          ],
          [
           "CEDAR RAPIDS, IA"
          ],
          [
           "CENTRALIA, WA"
          ],
          [
           "CHARLESTON, WV"
          ],
          [
           "CHARLOTTESVILLE, VA"
          ],
          [
           "CHEYENNE, WY"
          ],
          [
           "CHICO, CA"
          ],
          [
           "CLARKSBURG, WV"
          ],
          [
           "CLEARLAKE, CA"
          ],
          [
           "CLINTON, IA"
          ],
          [
           "COLORADO SPRINGS, CO"
          ],
          [
           "COLUMBIA, MO"
          ],
          [
           "CONCORD, NH"
          ],
          [
           "COOKEVILLE, TN"
          ],
          [
           "COOS BAY, OR"
          ],
          [
           "CORNING, NY"
          ],
          [
           "CORPUS CHRISTI, TX"
          ],
          [
           "CORSICANA, TX"
          ],
          [
           "CORVALLIS, OR"
          ],
          [
           "CRESCENT CITY, CA"
          ],
          [
           "CULLOWHEE, NC"
          ],
          [
           "DALTON, GA"
          ],
          [
           "DAYTON, OH"
          ],
          [
           "DECATUR, AL"
          ],
          [
           "DEMING, NM"
          ],
          [
           "DICKINSON, ND"
          ],
          [
           "DODGE CITY, KS"
          ],
          [
           "DOTHAN, AL"
          ],
          [
           "DOUGLAS, GA"
          ],
          [
           "DOVER, DE"
          ],
          [
           "DUBOIS, PA"
          ],
          [
           "DURANGO, CO"
          ],
          [
           "EAGLE PASS, TX"
          ],
          [
           "EAST STROUDSBURG, PA"
          ],
          [
           "EAU CLAIRE, WI"
          ],
          [
           "EFFINGHAM, IL"
          ],
          [
           "EL CENTRO, CA"
          ],
          [
           "EL DORADO, AR"
          ],
          [
           "EL PASO, TX"
          ],
          [
           "ELKO, NV"
          ],
          [
           "ELLENSBURG, WA"
          ],
          [
           "EMPORIA, KS"
          ],
          [
           "ERIE, PA"
          ],
          [
           "EUGENE, OR"
          ],
          [
           "EVANSTON, WY"
          ],
          [
           "FAIRBANKS, AK"
          ],
          [
           "FAIRMONT, WV"
          ],
          [
           "FALLON, NV"
          ],
          [
           "FARMINGTON, NM"
          ],
          [
           "FAYETTEVILLE, NC"
          ],
          [
           "FLAGSTAFF, AZ"
          ],
          [
           "FLINT, MI"
          ],
          [
           "FLORENCE, SC"
          ],
          [
           "FOND DU LAC, WI"
          ],
          [
           "FORT COLLINS, CO"
          ],
          [
           "FORT PAYNE, AL"
          ],
          [
           "FORT WAYNE, IN"
          ],
          [
           "FRESNO, CA"
          ],
          [
           "GADSDEN, AL"
          ],
          [
           "GAINESVILLE, FL"
          ],
          [
           "GEORGETOWN, SC"
          ],
          [
           "GETTYSBURG, PA"
          ],
          [
           "GILLETTE, WY"
          ],
          [
           "GLENWOOD SPRINGS, CO"
          ],
          [
           "GRAND ISLAND, NE"
          ],
          [
           "GRAND JUNCTION, CO"
          ],
          [
           "GRANTS PASS, OR"
          ],
          [
           "GREAT FALLS, MT"
          ],
          [
           "GREELEY, CO"
          ],
          [
           "GREEN BAY, WI"
          ],
          [
           "GREENVILLE, NC"
          ],
          [
           "HAILEY, ID"
          ],
          [
           "HAMMOND, LA"
          ],
          [
           "HARRISON, AR"
          ],
          [
           "HARRISONBURG, VA"
          ],
          [
           "HATTIESBURG, MS"
          ],
          [
           "HELENA, MT"
          ],
          [
           "HILO, HI"
          ],
          [
           "HOBBS, NM"
          ],
          [
           "HOLLAND, MI"
          ],
          [
           "HOT SPRINGS, AR"
          ],
          [
           "HOUGHTON, MI"
          ],
          [
           "HUNTINGTON, IN"
          ],
          [
           "HUNTSVILLE, AL"
          ],
          [
           "IDAHO FALLS, ID"
          ],
          [
           "INDIANA, PA"
          ],
          [
           "IOWA CITY, IA"
          ],
          [
           "ITHACA, NY"
          ],
          [
           "JACKSON, MS"
          ],
          [
           "JACKSONVILLE, FL"
          ],
          [
           "JASPER, IN"
          ],
          [
           "JEFFERSON CITY, MO"
          ],
          [
           "JOHNSTOWN, PA"
          ],
          [
           "JONESBORO, AR"
          ],
          [
           "JOPLIN, MO"
          ],
          [
           "JUNEAU, AK"
          ],
          [
           "KALISPELL, MT"
          ],
          [
           "KAPAA, HI"
          ],
          [
           "KEENE, NH"
          ],
          [
           "KINSTON, NC"
          ],
          [
           "KLAMATH FALLS, OR"
          ],
          [
           "KNOXVILLE, TN"
          ],
          [
           "KOKOMO, IN"
          ],
          [
           "LA GRANDE, OR"
          ],
          [
           "LACONIA, NH"
          ],
          [
           "LAFAYETTE, LA"
          ],
          [
           "LAKE CHARLES, LA"
          ],
          [
           "LAKE CITY, FL"
          ],
          [
           "LANCASTER, PA"
          ],
          [
           "LARAMIE, WY"
          ],
          [
           "LAREDO, TX"
          ],
          [
           "LAS CRUCES, NM"
          ],
          [
           "LAWRENCEBURG, TN"
          ],
          [
           "LAWTON, OK"
          ],
          [
           "LEBANON, PA"
          ],
          [
           "LIMA, OH"
          ],
          [
           "LINCOLN, NE"
          ],
          [
           "LONGVIEW, TX"
          ],
          [
           "LOS ALAMOS, NM"
          ],
          [
           "LUBBOCK, TX"
          ],
          [
           "LUDINGTON, MI"
          ],
          [
           "LYNCHBURG, VA"
          ],
          [
           "MACON, GA"
          ],
          [
           "MADERA, CA"
          ],
          [
           "MADISON, WI"
          ],
          [
           "MALONE, NY"
          ],
          [
           "MANITOWOC, WI"
          ],
          [
           "MARIETTA, OH"
          ],
          [
           "MARSHALL, MN"
          ],
          [
           "MASON CITY, IA"
          ],
          [
           "MAYAGUEZ, PR"
          ],
          [
           "MCALESTER, OK"
          ],
          [
           "MEDFORD, OR"
          ],
          [
           "MERCED, CA"
          ],
          [
           "MERIDIAN, MS"
          ],
          [
           "MIAMI, OK"
          ],
          [
           "MINOT, ND"
          ],
          [
           "MISSOULA, MT"
          ],
          [
           "MOBILE, AL"
          ],
          [
           "MODESTO, CA"
          ],
          [
           "MONROE, LA"
          ],
          [
           "MONTGOMERY, AL"
          ],
          [
           "MOREHEAD CITY, NC"
          ],
          [
           "MORGANTOWN, WV"
          ],
          [
           "MORRISTOWN, TN"
          ],
          [
           "MOSCOW, ID"
          ],
          [
           "MOSES LAKE, WA"
          ],
          [
           "MOUNT VERNON, IL"
          ],
          [
           "MUNCIE, IN"
          ],
          [
           "MUSCATINE, IA"
          ],
          [
           "MUSKEGON, MI"
          ],
          [
           "MUSKOGEE, OK"
          ],
          [
           "NAPA, CA"
          ],
          [
           "NEW CASTLE, IN"
          ],
          [
           "NOGALES, AZ"
          ],
          [
           "OCALA, FL"
          ],
          [
           "ODESSA, TX"
          ],
          [
           "OKLAHOMA CITY, OK"
          ],
          [
           "OTHELLO, WA"
          ],
          [
           "OWENSBORO, KY"
          ],
          [
           "OXFORD, NC"
          ],
          [
           "PALATKA, FL"
          ],
          [
           "PANAMA CITY, FL"
          ],
          [
           "PAYSON, AZ"
          ],
          [
           "PEORIA, IL"
          ],
          [
           "PIERRE, SD"
          ],
          [
           "PITTSBURGH, PA"
          ],
          [
           "PITTSFIELD, MA"
          ],
          [
           "PLATTEVILLE, WI"
          ],
          [
           "POCATELLO, ID"
          ],
          [
           "PONCA CITY, OK"
          ],
          [
           "PONCE, PR"
          ],
          [
           "PORT ANGELES, WA"
          ],
          [
           "PORTSMOUTH, OH"
          ],
          [
           "PRESCOTT, AZ"
          ],
          [
           "PRINEVILLE, OR"
          ],
          [
           "PUEBLO, CO"
          ],
          [
           "PULLMAN, WA"
          ],
          [
           "RACINE, WI"
          ],
          [
           "RALEIGH, NC"
          ],
          [
           "RAPID CITY, SD"
          ],
          [
           "READING, PA"
          ],
          [
           "RED BLUFF, CA"
          ],
          [
           "RED WING, MN"
          ],
          [
           "REDDING, CA"
          ],
          [
           "RENO, NV"
          ],
          [
           "RICHMOND, VA"
          ],
          [
           "RIVERTON, WY"
          ],
          [
           "ROANOKE, VA"
          ],
          [
           "ROCHESTER, MN"
          ],
          [
           "ROCK SPRINGS, WY"
          ],
          [
           "ROCKFORD, IL"
          ],
          [
           "ROCKLAND, ME"
          ],
          [
           "ROCKY MOUNT, NC"
          ],
          [
           "ROME, GA"
          ],
          [
           "ROSEBURG, OR"
          ],
          [
           "ROSWELL, NM"
          ],
          [
           "RUIDOSO, NM"
          ],
          [
           "RUTLAND, VT"
          ],
          [
           "SALEM, OH"
          ],
          [
           "SALINAS, CA"
          ],
          [
           "SALT LAKE CITY, UT"
          ],
          [
           "SANDPOINT, ID"
          ],
          [
           "SANTA FE, NM"
          ],
          [
           "SANTA ROSA, CA"
          ],
          [
           "SAVANNAH, GA"
          ],
          [
           "SAYRE, PA"
          ],
          [
           "SCOTTSBLUFF, NE"
          ],
          [
           "SEBRING, FL"
          ],
          [
           "SENECA, SC"
          ],
          [
           "SEVIERVILLE, TN"
          ],
          [
           "SEYMOUR, IN"
          ],
          [
           "SHEBOYGAN, WI"
          ],
          [
           "SHELTON, WA"
          ],
          [
           "SHERIDAN, WY"
          ],
          [
           "SHOW LOW, AZ"
          ],
          [
           "SIOUX FALLS, SD"
          ],
          [
           "SOMERSET, KY"
          ],
          [
           "SONORA, CA"
          ],
          [
           "SPARTANBURG, SC"
          ],
          [
           "SPRINGFIELD, IL"
          ],
          [
           "STATE COLLEGE, PA"
          ],
          [
           "STEAMBOAT SPRINGS, CO"
          ],
          [
           "SYRACUSE, NY"
          ],
          [
           "TALLAHASSEE, FL"
          ],
          [
           "TAOS, NM"
          ],
          [
           "TERRE HAUTE, IN"
          ],
          [
           "THE DALLES, OR"
          ],
          [
           "TOLEDO, OH"
          ],
          [
           "TOPEKA, KS"
          ],
          [
           "TORRINGTON, CT"
          ],
          [
           "TRAVERSE CITY, MI"
          ],
          [
           "TRENTON, NJ"
          ],
          [
           "TUCSON, AZ"
          ],
          [
           "TULSA, OK"
          ],
          [
           "TUPELO, MS"
          ],
          [
           "TUSCALOOSA, AL"
          ],
          [
           "TWIN FALLS, ID"
          ],
          [
           "TYLER, TX"
          ],
          [
           "UKIAH, CA"
          ],
          [
           "VALDOSTA, GA"
          ],
          [
           "VICTORIA, TX"
          ],
          [
           "VINCENNES, IN"
          ],
          [
           "WABASH, IN"
          ],
          [
           "WACO, TX"
          ],
          [
           "WALLA WALLA, WA"
          ],
          [
           "WALTERBORO, SC"
          ],
          [
           "WARNER ROBINS, GA"
          ],
          [
           "WASHINGTON COURT HOUSE, OH"
          ],
          [
           "WATERTOWN, SD"
          ],
          [
           "WAUSAU, WI"
          ],
          [
           "WEATHERFORD, OK"
          ],
          [
           "WENATCHEE, WA"
          ],
          [
           "WICHITA, KS"
          ],
          [
           "WILLIAMSPORT, PA"
          ],
          [
           "WILLISTON, ND"
          ],
          [
           "WILMINGTON, NC"
          ],
          [
           "WINONA, MN"
          ],
          [
           "YAKIMA, WA"
          ],
          [
           "YUBA CITY, CA"
          ],
          [
           "YUMA, AZ"
          ]
         ],
         "hovertemplate": "<b>%{hovertext}</b><br><br>Latitude=%{lat}<br>Longitude=%{lon}<br>CBSA=%{customdata[0]}<br>Cluster=%{marker.color}<extra></extra>",
         "hovertext": [
          "ABERDEEN",
          "ADRIAN",
          "AKRON",
          "ALBANY",
          "ALBUQUERQUE",
          "ALEXANDRIA",
          "ALTOONA",
          "AMARILLO",
          "AMERICUS",
          "ANCHORAGE",
          "ANN ARBOR",
          "APPLETON",
          "ARDMORE",
          "ARKADELPHIA",
          "ASHEVILLE",
          "ASHTABULA",
          "ATHENS",
          "BAKERSFIELD",
          "BANGOR",
          "BARABOO",
          "BATON ROUGE",
          "BAY CITY",
          "BEAVER DAM",
          "BELLINGHAM",
          "BEMIDJI",
          "BENNINGTON",
          "BILLINGS",
          "BISHOP",
          "BISMARCK",
          "BLOOMINGTON",
          "BOULDER",
          "BOWLING GREEN",
          "BOZEMAN",
          "BRAINERD",
          "BRANSON",
          "BROOKINGS",
          "BRUNSWICK",
          "CADILLAC",
          "CAMBRIDGE",
          "CARSON CITY",
          "CASPER",
          "CEDAR CITY",
          "CEDAR RAPIDS",
          "CENTRALIA",
          "CHARLESTON",
          "CHARLOTTESVILLE",
          "CHEYENNE",
          "CHICO",
          "CLARKSBURG",
          "CLEARLAKE",
          "CLINTON",
          "COLORADO SPRINGS",
          "COLUMBIA",
          "CONCORD",
          "COOKEVILLE",
          "COOS BAY",
          "CORNING",
          "CORPUS CHRISTI",
          "CORSICANA",
          "CORVALLIS",
          "CRESCENT CITY",
          "CULLOWHEE",
          "DALTON",
          "DAYTON",
          "DECATUR",
          "DEMING",
          "DICKINSON",
          "DODGE CITY",
          "DOTHAN",
          "DOUGLAS",
          "DOVER",
          "DUBOIS",
          "DURANGO",
          "EAGLE PASS",
          "EAST STROUDSBURG",
          "EAU CLAIRE",
          "EFFINGHAM",
          "EL CENTRO",
          "EL DORADO",
          "EL PASO",
          "ELKO",
          "ELLENSBURG",
          "EMPORIA",
          "ERIE",
          "EUGENE",
          "EVANSTON",
          "FAIRBANKS",
          "FAIRMONT",
          "FALLON",
          "FARMINGTON",
          "FAYETTEVILLE",
          "FLAGSTAFF",
          "FLINT",
          "FLORENCE",
          "FOND DU LAC",
          "FORT COLLINS",
          "FORT PAYNE",
          "FORT WAYNE",
          "FRESNO",
          "GADSDEN",
          "GAINESVILLE",
          "GEORGETOWN",
          "GETTYSBURG",
          "GILLETTE",
          "GLENWOOD SPRINGS",
          "GRAND ISLAND",
          "GRAND JUNCTION",
          "GRANTS PASS",
          "GREAT FALLS",
          "GREELEY",
          "GREEN BAY",
          "GREENVILLE",
          "HAILEY",
          "HAMMOND",
          "HARRISON",
          "HARRISONBURG",
          "HATTIESBURG",
          "HELENA",
          "HILO",
          "HOBBS",
          "HOLLAND",
          "HOT SPRINGS",
          "HOUGHTON",
          "HUNTINGTON",
          "HUNTSVILLE",
          "IDAHO FALLS",
          "INDIANA",
          "IOWA CITY",
          "ITHACA",
          "JACKSON",
          "JACKSONVILLE",
          "JASPER",
          "JEFFERSON CITY",
          "JOHNSTOWN",
          "JONESBORO",
          "JOPLIN",
          "JUNEAU",
          "KALISPELL",
          "KAPAA",
          "KEENE",
          "KINSTON",
          "KLAMATH FALLS",
          "KNOXVILLE",
          "KOKOMO",
          "LA GRANDE",
          "LACONIA",
          "LAFAYETTE",
          "LAKE CHARLES",
          "LAKE CITY",
          "LANCASTER",
          "LARAMIE",
          "LAREDO",
          "LAS CRUCES",
          "LAWRENCEBURG",
          "LAWTON",
          "LEBANON",
          "LIMA",
          "LINCOLN",
          "LONGVIEW",
          "LOS ALAMOS",
          "LUBBOCK",
          "LUDINGTON",
          "LYNCHBURG",
          "MACON",
          "MADERA",
          "MADISON",
          "MALONE",
          "MANITOWOC",
          "MARIETTA",
          "MARSHALL",
          "MASON CITY",
          "MAYAGUEZ",
          "MCALESTER",
          "MEDFORD",
          "MERCED",
          "MERIDIAN",
          "MIAMI",
          "MINOT",
          "MISSOULA",
          "MOBILE",
          "MODESTO",
          "MONROE",
          "MONTGOMERY",
          "MOREHEAD CITY",
          "MORGANTOWN",
          "MORRISTOWN",
          "MOSCOW",
          "MOSES LAKE",
          "MOUNT VERNON",
          "MUNCIE",
          "MUSCATINE",
          "MUSKEGON",
          "MUSKOGEE",
          "NAPA",
          "NEW CASTLE",
          "NOGALES",
          "OCALA",
          "ODESSA",
          "OKLAHOMA CITY",
          "OTHELLO",
          "OWENSBORO",
          "OXFORD",
          "PALATKA",
          "PANAMA CITY",
          "PAYSON",
          "PEORIA",
          "PIERRE",
          "PITTSBURGH",
          "PITTSFIELD",
          "PLATTEVILLE",
          "POCATELLO",
          "PONCA CITY",
          "PONCE",
          "PORT ANGELES",
          "PORTSMOUTH",
          "PRESCOTT",
          "PRINEVILLE",
          "PUEBLO",
          "PULLMAN",
          "RACINE",
          "RALEIGH",
          "RAPID CITY",
          "READING",
          "RED BLUFF",
          "RED WING",
          "REDDING",
          "RENO",
          "RICHMOND",
          "RIVERTON",
          "ROANOKE",
          "ROCHESTER",
          "ROCK SPRINGS",
          "ROCKFORD",
          "ROCKLAND",
          "ROCKY MOUNT",
          "ROME",
          "ROSEBURG",
          "ROSWELL",
          "RUIDOSO",
          "RUTLAND",
          "SALEM",
          "SALINAS",
          "SALT LAKE CITY",
          "SANDPOINT",
          "SANTA FE",
          "SANTA ROSA",
          "SAVANNAH",
          "SAYRE",
          "SCOTTSBLUFF",
          "SEBRING",
          "SENECA",
          "SEVIERVILLE",
          "SEYMOUR",
          "SHEBOYGAN",
          "SHELTON",
          "SHERIDAN",
          "SHOW LOW",
          "SIOUX FALLS",
          "SOMERSET",
          "SONORA",
          "SPARTANBURG",
          "SPRINGFIELD",
          "STATE COLLEGE",
          "STEAMBOAT SPRINGS",
          "SYRACUSE",
          "TALLAHASSEE",
          "TAOS",
          "TERRE HAUTE",
          "THE DALLES",
          "TOLEDO",
          "TOPEKA",
          "TORRINGTON",
          "TRAVERSE CITY",
          "TRENTON",
          "TUCSON",
          "TULSA",
          "TUPELO",
          "TUSCALOOSA",
          "TWIN FALLS",
          "TYLER",
          "UKIAH",
          "VALDOSTA",
          "VICTORIA",
          "VINCENNES",
          "WABASH",
          "WACO",
          "WALLA WALLA",
          "WALTERBORO",
          "WARNER ROBINS",
          "WASHINGTON COURT HOUSE",
          "WATERTOWN",
          "WAUSAU",
          "WEATHERFORD",
          "WENATCHEE",
          "WICHITA",
          "WILLIAMSPORT",
          "WILLISTON",
          "WILMINGTON",
          "WINONA",
          "YAKIMA",
          "YUBA CITY",
          "YUMA"
         ],
         "lat": {
          "bdata": "jWMke4S7RkDa1C/H4fJEQMu8VdehikRALVhPUgWUP0C/PXTmw4pBQLObdLbbTz9Au/K0V3pCREDYZI16iJpBQELXdPNDCUBA+ZkfJLCbTkB1gBYBBCRFQCPkcnJ1IUZA9ApVeyIWQUDTkKebeg9BQM0f09o0zEFAgr+pWbHuRECf6Lrwg61DQEl18ALbr0FA4BEVqptmRkAOf/IcNrxFQMTQ6uQMcz5APAPZoVDMRUDcjl8umLpFQBUI8TeQYEhAbmKS20C9R0CQBTu0fnBFQM2euqjM5EZA+Z6RCI2uQkClvFZCd2dHQHeX1YVpPURAmvRSDOsBRED8iW/Nwn5CQNu4D4r31kZAZF8Nq9MtR0C0DCcfcVJCQF99PPTdJ0ZAkvGDTmMmP0Azkpj7PyBGQGRyD64lSUNAJ33GKkqVQ0A8GuKz0GxFQBpEtdK11kJA4kos3+n8REA3+GerN1xHQDo/xXHgLENAzcmLTMADQ0Dbh7zl6pFEQG5oyk4/3UNALiS7LeyjQ0D4QrdNp3pDQEMDsWzm80RAP58SIb9qQ0AnT1lN13lDQLA5B8+EmkVAIh9PJskUQkDF8wgkF69FQFjR1QxfEkVAI4IWt3bDO0AplIWvrwtAQOl3BrJDSEZA/EucJn3gREBQaz++KahBQFOCtLV0YkFAgi+WMyXhQ0Amm7wSkk1BQDymSYShIUBAebh404hwR0BsvgCxW+BCQOKuXkVGOT9AJJpAEYvZQEAKo1nZPpRDQKBRuvQvj0RA+1aQC3OjQkBb/SKyWbU8QHkLf+Hwf0RAN1K2SNpnRkCXuETkqoZDQEw3iUFgZUBA5aiStxKbQEA8Jwf9lsI/QLAR0mQQmURAhUTaxp9/R0AmNO5ytjNDQA7jJIOSEEVAvaIA9nYGRkBdIzjkVaJEQH+HokCfNVBAs+Q7Qhe+Q0BeNL/1vLxDQB2CmaVTXUJAZYedzrqGQUAIgUu2cJlBQIBZ69URgkVASU27mGYZQUCG3LF9beBFQEr2vqcoS0RAEsyHVt04QUC9gRMbPYpEQI1k6gmmXkJAjmoifaQBQUCEBqxm56Y9QA2NJ4I4uEBA1+q811rqQ0BXCRaHMyVGQLEfvTz4xUNAE9Iag052RECBN+7em4hDQAqpkUw9OEVAbV4wE6DAR0BZd+IoLzZEQFaYYx6eQUZAqI/AH37OQUDPhvwzg8JFQFb3I6AdgT5AQWpu4GkdQkAEyNCxgzlDQEtncRC+Uz9Agjl6/N5LR0A4Lj5gea8zQK66DtWUWkBA+6AdJtBkRUBD+GHOfUBBQArH4u33bUdAylkzjYFmREC3CmKga11BQGOLk7GQvkVAGEkWizpSREDo4zUKpNREQFqZ8Ev9N0VAdQwjGGImQEDRQl3/CVU+QJHHHYAehERAkIZT5uZJQ0DWYqaj0ilEQJL0H4ji6UFAL+3liMaKQkAohdRIpiZNQPhPN1DgGUhAsPOAw1UVNkBlUkMbgHdFQCwtI/WeoUFAjnkdccgcRUDOn4A37vpBQEOpYs9DPkRAlAczt4ypRkCGBVK9kMNFQF8+/nfpOT5A1eqrqwI7PkDLCX8rfjA+QFMx3wvdBERAen4H9eOnREAiNIKN64E7QKVk3k8yKEBAbx8DwwOfQUC+Rjdn6U1BQE3XE10XMERAH5+QnbdeREAx2GiUiWdEQL/ABwoXQEBAd9Zuu9DwQUAGjOTh88pAQAeAhSdP+kVAF03C4PW0QkA/dnLhm2tAQKuQl9r3lUJAFQK5xJGJRUBGQlvOpWxGQEdDIV3HDEZAhWhj21i1Q0D4jQr3JS5IQECEXbmDk0VAm2yovS02MkBnMKHdfHdBQEYpfBHIKUVATL/pAgOVQkBgThq0oS5AQFoACXnzb0JAGf8+48IdSEBwy+yYX29HQME2hxD8sD5AM7uT9NXRQkCOmZ92U0BAQJxtbkxPMEBA9b+3RIlcQUA6NTximdBDQOV5Fb5jG0JA5j+k375dR0BFrLR7qJBHQPc5PlqcKENAUcvFzsoYREBC1q5kIr1EQNpqIKf5nUVAsk2F093UQUDI7236sz5DQKFNaVjn9kNANamyORhXP0Bj21g/7C89QGs9jcWA2D9AvzD044q8QUB9K8iFuWlHQHYI0nsZ40JAVG3cB8UnQkDcB8X7FqY9QJhzhGedKD5A8CzmjM0eQUCPvBhv0FhEQF2BjZAmL0ZAByupbok4RECz/XW4ZzlFQD1SM1r9XUVAUVvZ9FZuRUDZdtoaEVpCQFHk/0QbETJAnRN7aB8PSEAtWE9SBV5DQH8uGjIeRUFAXf6es2AmRkBdp5GWyiFDQJsPGaB+XUdA04s1t51dRUDTr2MS5ONBQDa2MjxRCkZARfC/lewqREDUmLW51hZEQKGHNfD+R0ZA2yYmuQ1LREA+YHnrV8NDQEWOY9rtxEJAeXQjLCqDRUCsjEY+r6JCQPr6EAoAA0ZANJGI3wPLREA66BIOvSJFQJQGbShrDUZA9uUWBKD4QUAl6gWf5iBBQNI1k2+2m0VA/XGxWHmyQEBP//45capAQOslfKXizUVA79tacFBzREAXxWEfU1ZCQHEyuzg7YURAB3KaT2cjSEA0NWSXA9hBQA/R6A5iOENALZIb6hwKQEDSPrGpTv1EQECjdOlf7kRATaX6Kel+O0C9k6pI4FdBQIcFrXYD70FAO5Vnucd6Q0CS9vUyQNtFQFWGcTeIm0dAAPA+fbplRkArL57miSBBQLihc8gXxkVAxMApYseLQkAaTwRxHv5CQOQbwBGTeUFAQbeXNEbmQ0CmJfuMsGVEQKbLrO8NPkRAgNtu3SiGRUBS7Xg4JnA+QGGZbV0gNEJAEDtT6Ly7Q0AxLrAi/sxGQJ3LHrKS00RAdxIR/kWGQ0DN+0nGe+ZEQNyhvOpcYUZAjQhrCDMcREACRpc3hxxAQKB7xQkCFEJAgN2fQfkgQUCCwG/o0ppAQBAs/TomR0VA4fFIF/YsQEB4+2KlOJNDQKhOrPgr1T5AIdLKGHrNPECxi/3AsFZDQFKJoYs8Z0RAI8uTtZeMP0AZqfdUThpHQIz+hj95c0BAQOsrWV9PQECdM/1tqsRDQAuallgZc0ZAJRXXQtp6RkB/7apRWcNBQG7VGu8ztkdAKE5JMZvYQkCmn8sv3p5EQElvbgLCEkhAeWRiqeQcQUDMz7KTZgZGQAbX3NH/TEdAMyazMPqRQ0AlH7sLlFxAQA==",
          "dtype": "f8"
         },
         "legendgroup": "",
         "lon": {
          "bdata": "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",
          "dtype": "f8"
         },
         "marker": {
          "color": {
           "bdata": "AgAAAAMAAAABAAAAAwAAAAEAAAAAAAAAAwAAAAMAAAAAAAAAAQAAAAMAAAAAAAAAAwAAAAAAAAAAAAAAAAAAAAAAAAADAAAAAAAAAAAAAAABAAAAAAAAAAMAAAACAAAAAgAAAAAAAAAAAAAAAwAAAAAAAAADAAAAAQAAAAMAAAAAAAAAAAAAAAIAAAADAAAAAAAAAAAAAAADAAAAAAAAAAAAAAAAAAAAAwAAAAAAAAAAAAAAAAAAAAMAAAADAAAAAAAAAAAAAAADAAAAAwAAAAAAAAAAAAAAAAAAAAIAAAAAAAAAAwAAAAAAAAACAAAAAgAAAAAAAAAAAAAAAQAAAAMAAAACAAAAAAAAAAIAAAAAAAAAAAAAAAMAAAAAAAAAAwAAAAAAAAAAAAAAAAAAAAAAAAADAAAAAwAAAAEAAAACAAAAAAAAAAIAAAAAAAAAAwAAAAMAAAADAAAAAAAAAAAAAAADAAAAAwAAAAMAAAAAAAAAAAAAAAAAAAADAAAAAAAAAAEAAAABAAAAAwAAAAMAAAACAAAAAwAAAAAAAAADAAAAAgAAAAMAAAAAAAAAAgAAAAMAAAAAAAAAAAAAAAIAAAAAAAAAAAAAAAAAAAADAAAAAwAAAAIAAAADAAAAAAAAAAMAAAACAAAAAAAAAAMAAAADAAAAAAAAAAMAAAAAAAAAAQAAAAEAAAAAAAAAAAAAAAMAAAAAAAAAAAAAAAAAAAAAAAAAAgAAAAAAAAAAAAAAAwAAAAEAAAADAAAAAgAAAAIAAAADAAAAAwAAAAMAAAADAAAAAwAAAAMAAAADAAAAAAAAAAMAAAADAAAAAwAAAAEAAAAAAAAAAgAAAAAAAAAAAAAAAAAAAAMAAAADAAAAAQAAAAAAAAAAAAAAAAAAAAAAAAACAAAAAAAAAAMAAAADAAAAAwAAAAAAAAADAAAAAAAAAAMAAAABAAAAAwAAAAAAAAADAAAAAAAAAAAAAAADAAAAAgAAAAIAAAADAAAAAAAAAAAAAAAAAAAAAgAAAAAAAAAAAAAAAAAAAAMAAAAAAAAAAQAAAAIAAAADAAAAAwAAAAIAAAADAAAAAwAAAAMAAAACAAAAAQAAAAAAAAAAAAAAAgAAAAMAAAADAAAAAAAAAAIAAAADAAAAAAAAAAIAAAACAAAAAAAAAAEAAAADAAAAAwAAAAMAAAAAAAAAAAAAAAEAAAABAAAAAwAAAAAAAAAAAAAAAwAAAAMAAAAAAAAAAAAAAAMAAAAAAAAAAgAAAAIAAAAAAAAAAAAAAAAAAAADAAAAAAAAAAEAAAAAAAAAAwAAAAAAAAACAAAAAAAAAAAAAAADAAAAAAAAAAAAAAAAAAAAAAAAAAMAAAABAAAAAAAAAAMAAAADAAAAAwAAAAMAAAACAAAAAQAAAAEAAAACAAAAAwAAAAAAAAABAAAAAQAAAAAAAAAAAAAAAwAAAAEAAAABAAAAAAAAAAAAAAACAAAAAAAAAAAAAAADAAAAAAAAAAAAAAAAAAAAAAAAAAAAAAACAAAAAwAAAAAAAAAAAAAAAAAAAAIAAAAAAAAAAQAAAAAAAAAAAAAAAAAAAAIAAAADAAAAAwAAAAMAAAA=",
           "dtype": "i4"
          },
          "coloraxis": "coloraxis",
          "opacity": 0.8,
          "size": 10
         },
         "mode": "markers",
         "name": "",
         "showlegend": false,
         "subplot": "mapbox",
         "type": "scattermapbox"
        }
       ],
       "layout": {
        "coloraxis": {
         "colorbar": {
          "title": {
           "text": "Cluster"
          }
         },
         "colorscale": [
          [
           0,
           "#0d0887"
          ],
          [
           0.1111111111111111,
           "#46039f"
          ],
          [
           0.2222222222222222,
           "#7201a8"
          ],
          [
           0.3333333333333333,
           "#9c179e"
          ],
          [
           0.4444444444444444,
           "#bd3786"
          ],
          [
           0.5555555555555556,
           "#d8576b"
          ],
          [
           0.6666666666666666,
           "#ed7953"
          ],
          [
           0.7777777777777778,
           "#fb9f3a"
          ],
          [
           0.8888888888888888,
           "#fdca26"
          ],
          [
           1,
           "#f0f921"
          ]
         ]
        },
        "height": 600,
        "legend": {
         "tracegroupgap": 0
        },
        "mapbox": {
         "center": {
          "lat": 38.94814591821193,
          "lon": -96.10669603026818
         },
         "domain": {
          "x": [
           0,
           1
          ],
          "y": [
           0,
           1
          ]
         },
         "style": "open-street-map",
         "zoom": 4
        },
        "template": {
         "data": {
          "bar": [
           {
            "error_x": {
             "color": "#2a3f5f"
            },
            "error_y": {
             "color": "#2a3f5f"
            },
            "marker": {
             "line": {
              "color": "#E5ECF6",
              "width": 0.5
             },
             "pattern": {
              "fillmode": "overlay",
              "size": 10,
              "solidity": 0.2
             }
            },
            "type": "bar"
           }
          ],
          "barpolar": [
           {
            "marker": {
             "line": {
              "color": "#E5ECF6",
              "width": 0.5
             },
             "pattern": {
              "fillmode": "overlay",
              "size": 10,
              "solidity": 0.2
             }
            },
            "type": "barpolar"
           }
          ],
          "carpet": [
           {
            "aaxis": {
             "endlinecolor": "#2a3f5f",
             "gridcolor": "white",
             "linecolor": "white",
             "minorgridcolor": "white",
             "startlinecolor": "#2a3f5f"
            },
            "baxis": {
             "endlinecolor": "#2a3f5f",
             "gridcolor": "white",
             "linecolor": "white",
             "minorgridcolor": "white",
             "startlinecolor": "#2a3f5f"
            },
            "type": "carpet"
           }
          ],
          "choropleth": [
           {
            "colorbar": {
             "outlinewidth": 0,
             "ticks": ""
            },
            "type": "choropleth"
           }
          ],
          "contour": [
           {
            "colorbar": {
             "outlinewidth": 0,
             "ticks": ""
            },
            "colorscale": [
             [
              0,
              "#0d0887"
             ],
             [
              0.1111111111111111,
              "#46039f"
             ],
             [
              0.2222222222222222,
              "#7201a8"
             ],
             [
              0.3333333333333333,
              "#9c179e"
             ],
             [
              0.4444444444444444,
              "#bd3786"
             ],
             [
              0.5555555555555556,
              "#d8576b"
             ],
             [
              0.6666666666666666,
              "#ed7953"
             ],
             [
              0.7777777777777778,
              "#fb9f3a"
             ],
             [
              0.8888888888888888,
              "#fdca26"
             ],
             [
              1,
              "#f0f921"
             ]
            ],
            "type": "contour"
           }
          ],
          "contourcarpet": [
           {
            "colorbar": {
             "outlinewidth": 0,
             "ticks": ""
            },
            "type": "contourcarpet"
           }
          ],
          "heatmap": [
           {
            "colorbar": {
             "outlinewidth": 0,
             "ticks": ""
            },
            "colorscale": [
             [
              0,
              "#0d0887"
             ],
             [
              0.1111111111111111,
              "#46039f"
             ],
             [
              0.2222222222222222,
              "#7201a8"
             ],
             [
              0.3333333333333333,
              "#9c179e"
             ],
             [
              0.4444444444444444,
              "#bd3786"
             ],
             [
              0.5555555555555556,
              "#d8576b"
             ],
             [
              0.6666666666666666,
              "#ed7953"
             ],
             [
              0.7777777777777778,
              "#fb9f3a"
             ],
             [
              0.8888888888888888,
              "#fdca26"
             ],
             [
              1,
              "#f0f921"
             ]
            ],
            "type": "heatmap"
           }
          ],
          "histogram": [
           {
            "marker": {
             "pattern": {
              "fillmode": "overlay",
              "size": 10,
              "solidity": 0.2
             }
            },
            "type": "histogram"
           }
          ],
          "histogram2d": [
           {
            "colorbar": {
             "outlinewidth": 0,
             "ticks": ""
            },
            "colorscale": [
             [
              0,
              "#0d0887"
             ],
             [
              0.1111111111111111,
              "#46039f"
             ],
             [
              0.2222222222222222,
              "#7201a8"
             ],
             [
              0.3333333333333333,
              "#9c179e"
             ],
             [
              0.4444444444444444,
              "#bd3786"
             ],
             [
              0.5555555555555556,
              "#d8576b"
             ],
             [
              0.6666666666666666,
              "#ed7953"
             ],
             [
              0.7777777777777778,
              "#fb9f3a"
             ],
             [
              0.8888888888888888,
              "#fdca26"
             ],
             [
              1,
              "#f0f921"
             ]
            ],
            "type": "histogram2d"
           }
          ],
          "histogram2dcontour": [
           {
            "colorbar": {
             "outlinewidth": 0,
             "ticks": ""
            },
            "colorscale": [
             [
              0,
              "#0d0887"
             ],
             [
              0.1111111111111111,
              "#46039f"
             ],
             [
              0.2222222222222222,
              "#7201a8"
             ],
             [
              0.3333333333333333,
              "#9c179e"
             ],
             [
              0.4444444444444444,
              "#bd3786"
             ],
             [
              0.5555555555555556,
              "#d8576b"
             ],
             [
              0.6666666666666666,
              "#ed7953"
             ],
             [
              0.7777777777777778,
              "#fb9f3a"
             ],
             [
              0.8888888888888888,
              "#fdca26"
             ],
             [
              1,
              "#f0f921"
             ]
            ],
            "type": "histogram2dcontour"
           }
          ],
          "mesh3d": [
           {
            "colorbar": {
             "outlinewidth": 0,
             "ticks": ""
            },
            "type": "mesh3d"
           }
          ],
          "parcoords": [
           {
            "line": {
             "colorbar": {
              "outlinewidth": 0,
              "ticks": ""
             }
            },
            "type": "parcoords"
           }
          ],
          "pie": [
           {
            "automargin": true,
            "type": "pie"
           }
          ],
          "scatter": [
           {
            "fillpattern": {
             "fillmode": "overlay",
             "size": 10,
             "solidity": 0.2
            },
            "type": "scatter"
           }
          ],
          "scatter3d": [
           {
            "line": {
             "colorbar": {
              "outlinewidth": 0,
              "ticks": ""
             }
            },
            "marker": {
             "colorbar": {
              "outlinewidth": 0,
              "ticks": ""
             }
            },
            "type": "scatter3d"
           }
          ],
          "scattercarpet": [
           {
            "marker": {
             "colorbar": {
              "outlinewidth": 0,
              "ticks": ""
             }
            },
            "type": "scattercarpet"
           }
          ],
          "scattergeo": [
           {
            "marker": {
             "colorbar": {
              "outlinewidth": 0,
              "ticks": ""
             }
            },
            "type": "scattergeo"
           }
          ],
          "scattergl": [
           {
            "marker": {
             "colorbar": {
              "outlinewidth": 0,
              "ticks": ""
             }
            },
            "type": "scattergl"
           }
          ],
          "scattermap": [
           {
            "marker": {
             "colorbar": {
              "outlinewidth": 0,
              "ticks": ""
             }
            },
            "type": "scattermap"
           }
          ],
          "scattermapbox": [
           {
            "marker": {
             "colorbar": {
              "outlinewidth": 0,
              "ticks": ""
             }
            },
            "type": "scattermapbox"
           }
          ],
          "scatterpolar": [
           {
            "marker": {
             "colorbar": {
              "outlinewidth": 0,
              "ticks": ""
             }
            },
            "type": "scatterpolar"
           }
          ],
          "scatterpolargl": [
           {
            "marker": {
             "colorbar": {
              "outlinewidth": 0,
              "ticks": ""
             }
            },
            "type": "scatterpolargl"
           }
          ],
          "scatterternary": [
           {
            "marker": {
             "colorbar": {
              "outlinewidth": 0,
              "ticks": ""
             }
            },
            "type": "scatterternary"
           }
          ],
          "surface": [
           {
            "colorbar": {
             "outlinewidth": 0,
             "ticks": ""
            },
            "colorscale": [
             [
              0,
              "#0d0887"
             ],
             [
              0.1111111111111111,
              "#46039f"
             ],
             [
              0.2222222222222222,
              "#7201a8"
             ],
             [
              0.3333333333333333,
              "#9c179e"
             ],
             [
              0.4444444444444444,
              "#bd3786"
             ],
             [
              0.5555555555555556,
              "#d8576b"
             ],
             [
              0.6666666666666666,
              "#ed7953"
             ],
             [
              0.7777777777777778,
              "#fb9f3a"
             ],
             [
              0.8888888888888888,
              "#fdca26"
             ],
             [
              1,
              "#f0f921"
             ]
            ],
            "type": "surface"
           }
          ],
          "table": [
           {
            "cells": {
             "fill": {
              "color": "#EBF0F8"
             },
             "line": {
              "color": "white"
             }
            },
            "header": {
             "fill": {
              "color": "#C8D4E3"
             },
             "line": {
              "color": "white"
             }
            },
            "type": "table"
           }
          ]
         },
         "layout": {
          "annotationdefaults": {
           "arrowcolor": "#2a3f5f",
           "arrowhead": 0,
           "arrowwidth": 1
          },
          "autotypenumbers": "strict",
          "coloraxis": {
           "colorbar": {
            "outlinewidth": 0,
            "ticks": ""
           }
          },
          "colorscale": {
           "diverging": [
            [
             0,
             "#8e0152"
            ],
            [
             0.1,
             "#c51b7d"
            ],
            [
             0.2,
             "#de77ae"
            ],
            [
             0.3,
             "#f1b6da"
            ],
            [
             0.4,
             "#fde0ef"
            ],
            [
             0.5,
             "#f7f7f7"
            ],
            [
             0.6,
             "#e6f5d0"
            ],
            [
             0.7,
             "#b8e186"
            ],
            [
             0.8,
             "#7fbc41"
            ],
            [
             0.9,
             "#4d9221"
            ],
            [
             1,
             "#276419"
            ]
           ],
           "sequential": [
            [
             0,
             "#0d0887"
            ],
            [
             0.1111111111111111,
             "#46039f"
            ],
            [
             0.2222222222222222,
             "#7201a8"
            ],
            [
             0.3333333333333333,
             "#9c179e"
            ],
            [
             0.4444444444444444,
             "#bd3786"
            ],
            [
             0.5555555555555556,
             "#d8576b"
            ],
            [
             0.6666666666666666,
             "#ed7953"
            ],
            [
             0.7777777777777778,
             "#fb9f3a"
            ],
            [
             0.8888888888888888,
             "#fdca26"
            ],
            [
             1,
             "#f0f921"
            ]
           ],
           "sequentialminus": [
            [
             0,
             "#0d0887"
            ],
            [
             0.1111111111111111,
             "#46039f"
            ],
            [
             0.2222222222222222,
             "#7201a8"
            ],
            [
             0.3333333333333333,
             "#9c179e"
            ],
            [
             0.4444444444444444,
             "#bd3786"
            ],
            [
             0.5555555555555556,
             "#d8576b"
            ],
            [
             0.6666666666666666,
             "#ed7953"
            ],
            [
             0.7777777777777778,
             "#fb9f3a"
            ],
            [
             0.8888888888888888,
             "#fdca26"
            ],
            [
             1,
             "#f0f921"
            ]
           ]
          },
          "colorway": [
           "#636efa",
           "#EF553B",
           "#00cc96",
           "#ab63fa",
           "#FFA15A",
           "#19d3f3",
           "#FF6692",
           "#B6E880",
           "#FF97FF",
           "#FECB52"
          ],
          "font": {
           "color": "#2a3f5f"
          },
          "geo": {
           "bgcolor": "white",
           "lakecolor": "white",
           "landcolor": "#E5ECF6",
           "showlakes": true,
           "showland": true,
           "subunitcolor": "white"
          },
          "hoverlabel": {
           "align": "left"
          },
          "hovermode": "closest",
          "mapbox": {
           "style": "light"
          },
          "paper_bgcolor": "white",
          "plot_bgcolor": "#E5ECF6",
          "polar": {
           "angularaxis": {
            "gridcolor": "white",
            "linecolor": "white",
            "ticks": ""
           },
           "bgcolor": "#E5ECF6",
           "radialaxis": {
            "gridcolor": "white",
            "linecolor": "white",
            "ticks": ""
           }
          },
          "scene": {
           "xaxis": {
            "backgroundcolor": "#E5ECF6",
            "gridcolor": "white",
            "gridwidth": 2,
            "linecolor": "white",
            "showbackground": true,
            "ticks": "",
            "zerolinecolor": "white"
           },
           "yaxis": {
            "backgroundcolor": "#E5ECF6",
            "gridcolor": "white",
            "gridwidth": 2,
            "linecolor": "white",
            "showbackground": true,
            "ticks": "",
            "zerolinecolor": "white"
           },
           "zaxis": {
            "backgroundcolor": "#E5ECF6",
            "gridcolor": "white",
            "gridwidth": 2,
            "linecolor": "white",
            "showbackground": true,
            "ticks": "",
            "zerolinecolor": "white"
           }
          },
          "shapedefaults": {
           "line": {
            "color": "#2a3f5f"
           }
          },
          "ternary": {
           "aaxis": {
            "gridcolor": "white",
            "linecolor": "white",
            "ticks": ""
           },
           "baxis": {
            "gridcolor": "white",
            "linecolor": "white",
            "ticks": ""
           },
           "bgcolor": "#E5ECF6",
           "caxis": {
            "gridcolor": "white",
            "linecolor": "white",
            "ticks": ""
           }
          },
          "title": {
           "x": 0.05
          },
          "xaxis": {
           "automargin": true,
           "gridcolor": "white",
           "linecolor": "white",
           "ticks": "",
           "title": {
            "standoff": 15
           },
           "zerolinecolor": "white",
           "zerolinewidth": 2
          },
          "yaxis": {
           "automargin": true,
           "gridcolor": "white",
           "linecolor": "white",
           "ticks": "",
           "title": {
            "standoff": 15
           },
           "zerolinecolor": "white",
           "zerolinewidth": 2
          }
         }
        },
        "title": {
         "text": "Geographic Clusters of Cities"
        }
       }
      }
     },
     "metadata": {},
     "output_type": "display_data"
    }
   ],
   "source": [
    "import plotly.express as px\n",
    "\n",
    "# Make sure your df still has Latitude, Longitude, City (or CITY), CBSA and Cluster columns\n",
    "city_col = \"City\" if \"City\" in df.columns else \"CITY\"\n",
    "\n",
    "fig = px.scatter_mapbox(\n",
    "    df,\n",
    "    lat=\"Latitude\",\n",
    "    lon=\"Longitude\",\n",
    "    color=\"Cluster\",\n",
    "    hover_name=city_col,\n",
    "    hover_data=[\"CBSA\"],\n",
    "    zoom=4,\n",
    "    height=600,\n",
    "    mapbox_style=\"open-street-map\",\n",
    "    title=\"Geographic Clusters of Cities\"\n",
    ")\n",
    "\n",
    "fig.update_traces(marker=dict(size=10, opacity=0.8))\n",
    "fig.show()\n"
   ]
  },
  {
   "cell_type": "code",
   "execution_count": null,
   "metadata": {},
   "outputs": [],
   "source": []
  }
 ],
 "metadata": {
  "kernelspec": {
   "display_name": "geo_env",
   "language": "python",
   "name": "python3"
  },
  "language_info": {
   "codemirror_mode": {
    "name": "ipython",
    "version": 3
   },
   "file_extension": ".py",
   "mimetype": "text/x-python",
   "name": "python",
   "nbconvert_exporter": "python",
   "pygments_lexer": "ipython3",
   "version": "3.10.16"
  }
 },
 "nbformat": 4,
 "nbformat_minor": 2
}
